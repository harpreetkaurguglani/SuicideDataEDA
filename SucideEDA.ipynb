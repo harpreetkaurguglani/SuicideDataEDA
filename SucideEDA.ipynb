{
 "cells": [
  {
   "cell_type": "code",
   "execution_count": 103,
   "id": "0e440fd1",
   "metadata": {},
   "outputs": [],
   "source": [
    "#Importing libraries\n",
    "import pandas as pd\n",
    "import matplotlib.pyplot as plt\n",
    "import csv\n",
    "import seaborn as sns\n",
    "import numpy as np\n",
    "import plotly\n",
    "\n"
   ]
  },
  {
   "cell_type": "markdown",
   "id": "ada96b12",
   "metadata": {},
   "source": [
    "### Inspecting and Cleaning the data"
   ]
  },
  {
   "cell_type": "code",
   "execution_count": 3,
   "id": "a50ab716",
   "metadata": {},
   "outputs": [
    {
     "data": {
      "text/html": [
       "<div>\n",
       "<style scoped>\n",
       "    .dataframe tbody tr th:only-of-type {\n",
       "        vertical-align: middle;\n",
       "    }\n",
       "\n",
       "    .dataframe tbody tr th {\n",
       "        vertical-align: top;\n",
       "    }\n",
       "\n",
       "    .dataframe thead th {\n",
       "        text-align: right;\n",
       "    }\n",
       "</style>\n",
       "<table border=\"1\" class=\"dataframe\">\n",
       "  <thead>\n",
       "    <tr style=\"text-align: right;\">\n",
       "      <th></th>\n",
       "      <th>country</th>\n",
       "      <th>year</th>\n",
       "      <th>sex</th>\n",
       "      <th>age</th>\n",
       "      <th>suicides_no</th>\n",
       "      <th>population</th>\n",
       "      <th>suicides/100k pop</th>\n",
       "      <th>country-year</th>\n",
       "      <th>HDI for year</th>\n",
       "      <th>gdp_for_year ($)</th>\n",
       "      <th>gdp_per_capita ($)</th>\n",
       "      <th>generation</th>\n",
       "    </tr>\n",
       "  </thead>\n",
       "  <tbody>\n",
       "    <tr>\n",
       "      <th>0</th>\n",
       "      <td>Albania</td>\n",
       "      <td>1987</td>\n",
       "      <td>male</td>\n",
       "      <td>15-24 years</td>\n",
       "      <td>21</td>\n",
       "      <td>312900</td>\n",
       "      <td>6.71</td>\n",
       "      <td>Albania1987</td>\n",
       "      <td>NaN</td>\n",
       "      <td>2,156,624,900</td>\n",
       "      <td>796</td>\n",
       "      <td>Generation X</td>\n",
       "    </tr>\n",
       "    <tr>\n",
       "      <th>1</th>\n",
       "      <td>Albania</td>\n",
       "      <td>1987</td>\n",
       "      <td>male</td>\n",
       "      <td>35-54 years</td>\n",
       "      <td>16</td>\n",
       "      <td>308000</td>\n",
       "      <td>5.19</td>\n",
       "      <td>Albania1987</td>\n",
       "      <td>NaN</td>\n",
       "      <td>2,156,624,900</td>\n",
       "      <td>796</td>\n",
       "      <td>Silent</td>\n",
       "    </tr>\n",
       "    <tr>\n",
       "      <th>2</th>\n",
       "      <td>Albania</td>\n",
       "      <td>1987</td>\n",
       "      <td>female</td>\n",
       "      <td>15-24 years</td>\n",
       "      <td>14</td>\n",
       "      <td>289700</td>\n",
       "      <td>4.83</td>\n",
       "      <td>Albania1987</td>\n",
       "      <td>NaN</td>\n",
       "      <td>2,156,624,900</td>\n",
       "      <td>796</td>\n",
       "      <td>Generation X</td>\n",
       "    </tr>\n",
       "    <tr>\n",
       "      <th>3</th>\n",
       "      <td>Albania</td>\n",
       "      <td>1987</td>\n",
       "      <td>male</td>\n",
       "      <td>75+ years</td>\n",
       "      <td>1</td>\n",
       "      <td>21800</td>\n",
       "      <td>4.59</td>\n",
       "      <td>Albania1987</td>\n",
       "      <td>NaN</td>\n",
       "      <td>2,156,624,900</td>\n",
       "      <td>796</td>\n",
       "      <td>G.I. Generation</td>\n",
       "    </tr>\n",
       "    <tr>\n",
       "      <th>4</th>\n",
       "      <td>Albania</td>\n",
       "      <td>1987</td>\n",
       "      <td>male</td>\n",
       "      <td>25-34 years</td>\n",
       "      <td>9</td>\n",
       "      <td>274300</td>\n",
       "      <td>3.28</td>\n",
       "      <td>Albania1987</td>\n",
       "      <td>NaN</td>\n",
       "      <td>2,156,624,900</td>\n",
       "      <td>796</td>\n",
       "      <td>Boomers</td>\n",
       "    </tr>\n",
       "  </tbody>\n",
       "</table>\n",
       "</div>"
      ],
      "text/plain": [
       "   country  year     sex          age  suicides_no  population  \\\n",
       "0  Albania  1987    male  15-24 years           21      312900   \n",
       "1  Albania  1987    male  35-54 years           16      308000   \n",
       "2  Albania  1987  female  15-24 years           14      289700   \n",
       "3  Albania  1987    male    75+ years            1       21800   \n",
       "4  Albania  1987    male  25-34 years            9      274300   \n",
       "\n",
       "   suicides/100k pop country-year  HDI for year  gdp_for_year ($)   \\\n",
       "0               6.71  Albania1987           NaN      2,156,624,900   \n",
       "1               5.19  Albania1987           NaN      2,156,624,900   \n",
       "2               4.83  Albania1987           NaN      2,156,624,900   \n",
       "3               4.59  Albania1987           NaN      2,156,624,900   \n",
       "4               3.28  Albania1987           NaN      2,156,624,900   \n",
       "\n",
       "   gdp_per_capita ($)       generation  \n",
       "0                 796     Generation X  \n",
       "1                 796           Silent  \n",
       "2                 796     Generation X  \n",
       "3                 796  G.I. Generation  \n",
       "4                 796          Boomers  "
      ]
     },
     "execution_count": 3,
     "metadata": {},
     "output_type": "execute_result"
    }
   ],
   "source": [
    "data=pd.read_csv(\"C:/Yashi/UBC MDS/OWN/GIT UPLOAD/SuicideAnalysis/master.csv\")\n",
    "data.head(5)"
   ]
  },
  {
   "cell_type": "code",
   "execution_count": 9,
   "id": "19892a17",
   "metadata": {},
   "outputs": [
    {
     "data": {
      "text/plain": [
       "Index(['country', 'year', 'sex', 'age', 'suicides_no', 'population',\n",
       "       'suicides/100k pop', 'country-year', 'HDI for year',\n",
       "       ' gdp_for_year ($) ', 'gdp_per_capita ($)', 'generation'],\n",
       "      dtype='object')"
      ]
     },
     "execution_count": 9,
     "metadata": {},
     "output_type": "execute_result"
    }
   ],
   "source": [
    "data.columns"
   ]
  },
  {
   "cell_type": "code",
   "execution_count": 21,
   "id": "496f5bbe",
   "metadata": {},
   "outputs": [
    {
     "name": "stdout",
     "output_type": "stream",
     "text": [
      "<class 'pandas.core.frame.DataFrame'>\n",
      "RangeIndex: 27820 entries, 0 to 27819\n",
      "Data columns (total 12 columns):\n",
      " #   Column             Non-Null Count  Dtype  \n",
      "---  ------             --------------  -----  \n",
      " 0   country            27820 non-null  object \n",
      " 1   year               27820 non-null  int64  \n",
      " 2   sex                27820 non-null  object \n",
      " 3   age                27820 non-null  object \n",
      " 4   suicides_no        27820 non-null  int64  \n",
      " 5   population         27820 non-null  int64  \n",
      " 6   suicides/100k pop  27820 non-null  float64\n",
      " 7   country-year       27820 non-null  object \n",
      " 8   HDI for year       8364 non-null   float64\n",
      " 9   gdp_for_year       27820 non-null  object \n",
      " 10  gdp_per_capita     27820 non-null  int64  \n",
      " 11  generation         27820 non-null  object \n",
      "dtypes: float64(2), int64(4), object(6)\n",
      "memory usage: 2.5+ MB\n"
     ]
    }
   ],
   "source": [
    "data=data.rename(columns = {' gdp_for_year ($) ':'gdp_for_year', 'gdp_per_capita ($)':'gdp_per_capita'})\n",
    "data.info()"
   ]
  },
  {
   "cell_type": "code",
   "execution_count": 22,
   "id": "56f8c4c3",
   "metadata": {},
   "outputs": [
    {
     "data": {
      "text/plain": [
       "(27820, 12)"
      ]
     },
     "execution_count": 22,
     "metadata": {},
     "output_type": "execute_result"
    }
   ],
   "source": [
    "data.shape\n"
   ]
  },
  {
   "cell_type": "code",
   "execution_count": 23,
   "id": "f7dcb9f9",
   "metadata": {},
   "outputs": [
    {
     "data": {
      "text/plain": [
       "country                  0\n",
       "year                     0\n",
       "sex                      0\n",
       "age                      0\n",
       "suicides_no              0\n",
       "population               0\n",
       "suicides/100k pop        0\n",
       "country-year             0\n",
       "HDI for year         19456\n",
       "gdp_for_year             0\n",
       "gdp_per_capita           0\n",
       "generation               0\n",
       "dtype: int64"
      ]
     },
     "execution_count": 23,
     "metadata": {},
     "output_type": "execute_result"
    }
   ],
   "source": [
    "data.isnull().sum()"
   ]
  },
  {
   "cell_type": "markdown",
   "id": "e4454378",
   "metadata": {},
   "source": [
    "The dataset has 12 columns with 27820 records, there are NAs in column 'HDI for year'. The response variable is the suicides_no. The data is k-anonymised has there has been generalized especially the age."
   ]
  },
  {
   "cell_type": "code",
   "execution_count": 24,
   "id": "3354b44d",
   "metadata": {},
   "outputs": [],
   "source": [
    "#need to get rid of columns with too many NaN values\n",
    "del data[\"HDI for year\"]"
   ]
  },
  {
   "cell_type": "code",
   "execution_count": 26,
   "id": "ea64776e",
   "metadata": {},
   "outputs": [
    {
     "data": {
      "text/html": [
       "<div>\n",
       "<style scoped>\n",
       "    .dataframe tbody tr th:only-of-type {\n",
       "        vertical-align: middle;\n",
       "    }\n",
       "\n",
       "    .dataframe tbody tr th {\n",
       "        vertical-align: top;\n",
       "    }\n",
       "\n",
       "    .dataframe thead th {\n",
       "        text-align: right;\n",
       "    }\n",
       "</style>\n",
       "<table border=\"1\" class=\"dataframe\">\n",
       "  <thead>\n",
       "    <tr style=\"text-align: right;\">\n",
       "      <th></th>\n",
       "      <th>country</th>\n",
       "      <th>year</th>\n",
       "      <th>sex</th>\n",
       "      <th>age</th>\n",
       "      <th>suicides_no</th>\n",
       "      <th>population</th>\n",
       "      <th>suicides/100k pop</th>\n",
       "      <th>country-year</th>\n",
       "      <th>gdp_for_year</th>\n",
       "      <th>gdp_per_capita</th>\n",
       "      <th>generation</th>\n",
       "    </tr>\n",
       "  </thead>\n",
       "  <tbody>\n",
       "    <tr>\n",
       "      <th>count</th>\n",
       "      <td>27820</td>\n",
       "      <td>27820.000000</td>\n",
       "      <td>27820</td>\n",
       "      <td>27820</td>\n",
       "      <td>27820.000000</td>\n",
       "      <td>2.782000e+04</td>\n",
       "      <td>27820.000000</td>\n",
       "      <td>27820</td>\n",
       "      <td>27820</td>\n",
       "      <td>27820.000000</td>\n",
       "      <td>27820</td>\n",
       "    </tr>\n",
       "    <tr>\n",
       "      <th>unique</th>\n",
       "      <td>101</td>\n",
       "      <td>NaN</td>\n",
       "      <td>2</td>\n",
       "      <td>6</td>\n",
       "      <td>NaN</td>\n",
       "      <td>NaN</td>\n",
       "      <td>NaN</td>\n",
       "      <td>2321</td>\n",
       "      <td>2321</td>\n",
       "      <td>NaN</td>\n",
       "      <td>6</td>\n",
       "    </tr>\n",
       "    <tr>\n",
       "      <th>top</th>\n",
       "      <td>Mauritius</td>\n",
       "      <td>NaN</td>\n",
       "      <td>female</td>\n",
       "      <td>55-74 years</td>\n",
       "      <td>NaN</td>\n",
       "      <td>NaN</td>\n",
       "      <td>NaN</td>\n",
       "      <td>Albania1989</td>\n",
       "      <td>2,450,084,970</td>\n",
       "      <td>NaN</td>\n",
       "      <td>Generation X</td>\n",
       "    </tr>\n",
       "    <tr>\n",
       "      <th>freq</th>\n",
       "      <td>382</td>\n",
       "      <td>NaN</td>\n",
       "      <td>13910</td>\n",
       "      <td>4642</td>\n",
       "      <td>NaN</td>\n",
       "      <td>NaN</td>\n",
       "      <td>NaN</td>\n",
       "      <td>12</td>\n",
       "      <td>12</td>\n",
       "      <td>NaN</td>\n",
       "      <td>6408</td>\n",
       "    </tr>\n",
       "    <tr>\n",
       "      <th>mean</th>\n",
       "      <td>NaN</td>\n",
       "      <td>2001.258375</td>\n",
       "      <td>NaN</td>\n",
       "      <td>NaN</td>\n",
       "      <td>242.574407</td>\n",
       "      <td>1.844794e+06</td>\n",
       "      <td>12.816097</td>\n",
       "      <td>NaN</td>\n",
       "      <td>NaN</td>\n",
       "      <td>16866.464414</td>\n",
       "      <td>NaN</td>\n",
       "    </tr>\n",
       "    <tr>\n",
       "      <th>std</th>\n",
       "      <td>NaN</td>\n",
       "      <td>8.469055</td>\n",
       "      <td>NaN</td>\n",
       "      <td>NaN</td>\n",
       "      <td>902.047917</td>\n",
       "      <td>3.911779e+06</td>\n",
       "      <td>18.961511</td>\n",
       "      <td>NaN</td>\n",
       "      <td>NaN</td>\n",
       "      <td>18887.576472</td>\n",
       "      <td>NaN</td>\n",
       "    </tr>\n",
       "    <tr>\n",
       "      <th>min</th>\n",
       "      <td>NaN</td>\n",
       "      <td>1985.000000</td>\n",
       "      <td>NaN</td>\n",
       "      <td>NaN</td>\n",
       "      <td>0.000000</td>\n",
       "      <td>2.780000e+02</td>\n",
       "      <td>0.000000</td>\n",
       "      <td>NaN</td>\n",
       "      <td>NaN</td>\n",
       "      <td>251.000000</td>\n",
       "      <td>NaN</td>\n",
       "    </tr>\n",
       "    <tr>\n",
       "      <th>25%</th>\n",
       "      <td>NaN</td>\n",
       "      <td>1995.000000</td>\n",
       "      <td>NaN</td>\n",
       "      <td>NaN</td>\n",
       "      <td>3.000000</td>\n",
       "      <td>9.749850e+04</td>\n",
       "      <td>0.920000</td>\n",
       "      <td>NaN</td>\n",
       "      <td>NaN</td>\n",
       "      <td>3447.000000</td>\n",
       "      <td>NaN</td>\n",
       "    </tr>\n",
       "    <tr>\n",
       "      <th>50%</th>\n",
       "      <td>NaN</td>\n",
       "      <td>2002.000000</td>\n",
       "      <td>NaN</td>\n",
       "      <td>NaN</td>\n",
       "      <td>25.000000</td>\n",
       "      <td>4.301500e+05</td>\n",
       "      <td>5.990000</td>\n",
       "      <td>NaN</td>\n",
       "      <td>NaN</td>\n",
       "      <td>9372.000000</td>\n",
       "      <td>NaN</td>\n",
       "    </tr>\n",
       "    <tr>\n",
       "      <th>75%</th>\n",
       "      <td>NaN</td>\n",
       "      <td>2008.000000</td>\n",
       "      <td>NaN</td>\n",
       "      <td>NaN</td>\n",
       "      <td>131.000000</td>\n",
       "      <td>1.486143e+06</td>\n",
       "      <td>16.620000</td>\n",
       "      <td>NaN</td>\n",
       "      <td>NaN</td>\n",
       "      <td>24874.000000</td>\n",
       "      <td>NaN</td>\n",
       "    </tr>\n",
       "    <tr>\n",
       "      <th>max</th>\n",
       "      <td>NaN</td>\n",
       "      <td>2016.000000</td>\n",
       "      <td>NaN</td>\n",
       "      <td>NaN</td>\n",
       "      <td>22338.000000</td>\n",
       "      <td>4.380521e+07</td>\n",
       "      <td>224.970000</td>\n",
       "      <td>NaN</td>\n",
       "      <td>NaN</td>\n",
       "      <td>126352.000000</td>\n",
       "      <td>NaN</td>\n",
       "    </tr>\n",
       "  </tbody>\n",
       "</table>\n",
       "</div>"
      ],
      "text/plain": [
       "          country          year     sex          age   suicides_no  \\\n",
       "count       27820  27820.000000   27820        27820  27820.000000   \n",
       "unique        101           NaN       2            6           NaN   \n",
       "top     Mauritius           NaN  female  55-74 years           NaN   \n",
       "freq          382           NaN   13910         4642           NaN   \n",
       "mean          NaN   2001.258375     NaN          NaN    242.574407   \n",
       "std           NaN      8.469055     NaN          NaN    902.047917   \n",
       "min           NaN   1985.000000     NaN          NaN      0.000000   \n",
       "25%           NaN   1995.000000     NaN          NaN      3.000000   \n",
       "50%           NaN   2002.000000     NaN          NaN     25.000000   \n",
       "75%           NaN   2008.000000     NaN          NaN    131.000000   \n",
       "max           NaN   2016.000000     NaN          NaN  22338.000000   \n",
       "\n",
       "          population  suicides/100k pop country-year   gdp_for_year  \\\n",
       "count   2.782000e+04       27820.000000        27820          27820   \n",
       "unique           NaN                NaN         2321           2321   \n",
       "top              NaN                NaN  Albania1989  2,450,084,970   \n",
       "freq             NaN                NaN           12             12   \n",
       "mean    1.844794e+06          12.816097          NaN            NaN   \n",
       "std     3.911779e+06          18.961511          NaN            NaN   \n",
       "min     2.780000e+02           0.000000          NaN            NaN   \n",
       "25%     9.749850e+04           0.920000          NaN            NaN   \n",
       "50%     4.301500e+05           5.990000          NaN            NaN   \n",
       "75%     1.486143e+06          16.620000          NaN            NaN   \n",
       "max     4.380521e+07         224.970000          NaN            NaN   \n",
       "\n",
       "        gdp_per_capita    generation  \n",
       "count     27820.000000         27820  \n",
       "unique             NaN             6  \n",
       "top                NaN  Generation X  \n",
       "freq               NaN          6408  \n",
       "mean      16866.464414           NaN  \n",
       "std       18887.576472           NaN  \n",
       "min         251.000000           NaN  \n",
       "25%        3447.000000           NaN  \n",
       "50%        9372.000000           NaN  \n",
       "75%       24874.000000           NaN  \n",
       "max      126352.000000           NaN  "
      ]
     },
     "execution_count": 26,
     "metadata": {},
     "output_type": "execute_result"
    }
   ],
   "source": [
    "data.describe(include=\"all\")"
   ]
  },
  {
   "cell_type": "code",
   "execution_count": 29,
   "id": "118e026c",
   "metadata": {},
   "outputs": [
    {
     "data": {
      "text/plain": [
       "Index(['country', 'sex', 'age', 'country-year', 'gdp_for_year', 'generation'], dtype='object')"
      ]
     },
     "execution_count": 29,
     "metadata": {},
     "output_type": "execute_result"
    }
   ],
   "source": [
    "#Categorical variables\n",
    "data.select_dtypes(include=[object]).columns"
   ]
  },
  {
   "cell_type": "code",
   "execution_count": 30,
   "id": "8582ff94",
   "metadata": {},
   "outputs": [
    {
     "data": {
      "text/plain": [
       "array(['15-24 years', '35-54 years', '75+ years', '25-34 years',\n",
       "       '55-74 years', '5-14 years'], dtype=object)"
      ]
     },
     "execution_count": 30,
     "metadata": {},
     "output_type": "execute_result"
    }
   ],
   "source": [
    "data['age'].unique()"
   ]
  },
  {
   "cell_type": "code",
   "execution_count": 37,
   "id": "3ea02d59",
   "metadata": {},
   "outputs": [
    {
     "data": {
      "text/plain": [
       "101"
      ]
     },
     "execution_count": 37,
     "metadata": {},
     "output_type": "execute_result"
    }
   ],
   "source": [
    "data['country'].nunique()\n",
    "data['year'].nunique()"
   ]
  },
  {
   "cell_type": "markdown",
   "id": "1a38d0c2",
   "metadata": {},
   "source": [
    "There are 6 age group in the dataset. The data is collected for 101 different countries and for 32 different years\n",
    "\n",
    "\n",
    "### Exploratory Data Analysis"
   ]
  },
  {
   "cell_type": "code",
   "execution_count": 93,
   "id": "507bdbdc",
   "metadata": {},
   "outputs": [
    {
     "data": {
      "text/plain": [
       "array([[<AxesSubplot:title={'center':'suicides_no'}>,\n",
       "        <AxesSubplot:title={'center':'population'}>],\n",
       "       [<AxesSubplot:title={'center':'suicides/100k pop'}>,\n",
       "        <AxesSubplot:>]], dtype=object)"
      ]
     },
     "execution_count": 93,
     "metadata": {},
     "output_type": "execute_result"
    },
    {
     "data": {
      "image/png": "[encoded data removed]",
      "text/plain": [
       "<Figure size 432x288 with 4 Axes>"
      ]
     },
     "metadata": {},
     "output_type": "display_data"
    }
   ],
   "source": [
    "data.hist(column=['suicides_no','population','suicides/100k pop','gdp_for_year','gdp_per_capita'])\n"
   ]
  },
  {
   "cell_type": "code",
   "execution_count": 96,
   "id": "0bbe0389",
   "metadata": {},
   "outputs": [
    {
     "data": {
      "text/plain": [
       "{'whiskers': [<matplotlib.lines.Line2D at 0x1eb90aac820>,\n",
       "  <matplotlib.lines.Line2D at 0x1eb90aac880>],\n",
       " 'caps': [<matplotlib.lines.Line2D at 0x1eb90abc5b0>,\n",
       "  <matplotlib.lines.Line2D at 0x1eb90accd60>],\n",
       " 'boxes': [<matplotlib.lines.Line2D at 0x1eb90a9b070>],\n",
       " 'medians': [<matplotlib.lines.Line2D at 0x1eb90acc070>],\n",
       " 'fliers': [<matplotlib.lines.Line2D at 0x1eb90adf820>],\n",
       " 'means': []}"
      ]
     },
     "execution_count": 96,
     "metadata": {},
     "output_type": "execute_result"
    },
    {
     "data": {
      "image/png": "[encoded data removed]",
      "text/plain": [
       "<Figure size 432x288 with 1 Axes>"
      ]
     },
     "metadata": {},
     "output_type": "display_data"
    }
   ],
   "source": [
    "plt.boxplot(data['suicides_no'])"
   ]
  },
  {
   "cell_type": "markdown",
   "id": "0dab3357",
   "metadata": {},
   "source": [
    "Clear presence of a lot of outliers for the data['suicides_no'] column. These do not provide a clear picture of the  interference performed from the data."
   ]
  },
  {
   "cell_type": "code",
   "execution_count": 107,
   "id": "f8b57f13",
   "metadata": {},
   "outputs": [
    {
     "name": "stdout",
     "output_type": "stream",
     "text": [
      "Requirement already satisfied: seaborn in c:\\users\\hp\\anaconda3\\lib\\site-packages (0.11.1)Note: you may need to restart the kernel to use updated packages.\n",
      "\n",
      "Requirement already satisfied: scipy>=1.0 in c:\\users\\hp\\anaconda3\\lib\\site-packages (from seaborn) (1.6.2)\n",
      "Requirement already satisfied: pandas>=0.23 in c:\\users\\hp\\anaconda3\\lib\\site-packages (from seaborn) (1.2.4)\n",
      "Requirement already satisfied: matplotlib>=2.2 in c:\\users\\hp\\anaconda3\\lib\\site-packages (from seaborn) (3.3.4)\n",
      "Requirement already satisfied: numpy>=1.15 in c:\\users\\hp\\anaconda3\\lib\\site-packages (from seaborn) (1.20.1)\n",
      "Requirement already satisfied: python-dateutil>=2.1 in c:\\users\\hp\\anaconda3\\lib\\site-packages (from matplotlib>=2.2->seaborn) (2.8.1)\n",
      "Requirement already satisfied: pillow>=6.2.0 in c:\\users\\hp\\anaconda3\\lib\\site-packages (from matplotlib>=2.2->seaborn) (8.2.0)\n",
      "Requirement already satisfied: cycler>=0.10 in c:\\users\\hp\\anaconda3\\lib\\site-packages (from matplotlib>=2.2->seaborn) (0.10.0)\n",
      "Requirement already satisfied: pyparsing!=2.0.4,!=2.1.2,!=2.1.6,>=2.0.3 in c:\\users\\hp\\anaconda3\\lib\\site-packages (from matplotlib>=2.2->seaborn) (2.4.7)\n",
      "Requirement already satisfied: kiwisolver>=1.0.1 in c:\\users\\hp\\anaconda3\\lib\\site-packages (from matplotlib>=2.2->seaborn) (1.3.1)\n",
      "Requirement already satisfied: six in c:\\users\\hp\\anaconda3\\lib\\site-packages (from cycler>=0.10->matplotlib>=2.2->seaborn) (1.15.0)\n",
      "Requirement already satisfied: pytz>=2017.3 in c:\\users\\hp\\anaconda3\\lib\\site-packages (from pandas>=0.23->seaborn) (2021.1)\n"
     ]
    }
   ],
   "source": [
    "pip install seaborn"
   ]
  },
  {
   "cell_type": "code",
   "execution_count": 110,
   "id": "c2ed94c0",
   "metadata": {},
   "outputs": [
    {
     "data": {
      "text/html": [
       "<style  type=\"text/css\" >\n",
       "#T_d74de_row0_col0,#T_d74de_row1_col1,#T_d74de_row2_col2,#T_d74de_row3_col3,#T_d74de_row4_col4,#T_d74de_row5_col5,#T_d74de_row6_col6{\n",
       "            background-color:  #b40426;\n",
       "            color:  #f1f1f1;\n",
       "        }#T_d74de_row0_col1,#T_d74de_row2_col6,#T_d74de_row3_col0,#T_d74de_row3_col5,#T_d74de_row5_col0,#T_d74de_row5_col3,#T_d74de_row5_col4,#T_d74de_row6_col2{\n",
       "            background-color:  #3b4cc0;\n",
       "            color:  #f1f1f1;\n",
       "        }#T_d74de_row0_col2,#T_d74de_row3_col2{\n",
       "            background-color:  #5572df;\n",
       "            color:  #000000;\n",
       "        }#T_d74de_row0_col3,#T_d74de_row0_col5{\n",
       "            background-color:  #4f69d9;\n",
       "            color:  #000000;\n",
       "        }#T_d74de_row0_col4,#T_d74de_row4_col0{\n",
       "            background-color:  #b5cdfa;\n",
       "            color:  #000000;\n",
       "        }#T_d74de_row0_col6{\n",
       "            background-color:  #5470de;\n",
       "            color:  #000000;\n",
       "        }#T_d74de_row1_col0{\n",
       "            background-color:  #445acc;\n",
       "            color:  #f1f1f1;\n",
       "        }#T_d74de_row1_col2{\n",
       "            background-color:  #f5c2aa;\n",
       "            color:  #000000;\n",
       "        }#T_d74de_row1_col3{\n",
       "            background-color:  #afcafc;\n",
       "            color:  #000000;\n",
       "        }#T_d74de_row1_col4{\n",
       "            background-color:  #5875e1;\n",
       "            color:  #000000;\n",
       "        }#T_d74de_row1_col5,#T_d74de_row4_col3{\n",
       "            background-color:  #5a78e4;\n",
       "            color:  #000000;\n",
       "        }#T_d74de_row1_col6{\n",
       "            background-color:  #6180e9;\n",
       "            color:  #000000;\n",
       "        }#T_d74de_row2_col0,#T_d74de_row3_col4{\n",
       "            background-color:  #485fd1;\n",
       "            color:  #f1f1f1;\n",
       "        }#T_d74de_row2_col1{\n",
       "            background-color:  #f2cbb7;\n",
       "            color:  #000000;\n",
       "        }#T_d74de_row2_col3{\n",
       "            background-color:  #5d7ce6;\n",
       "            color:  #000000;\n",
       "        }#T_d74de_row2_col4{\n",
       "            background-color:  #5f7fe8;\n",
       "            color:  #000000;\n",
       "        }#T_d74de_row2_col5{\n",
       "            background-color:  #4358cb;\n",
       "            color:  #f1f1f1;\n",
       "        }#T_d74de_row3_col1{\n",
       "            background-color:  #97b8ff;\n",
       "            color:  #000000;\n",
       "        }#T_d74de_row3_col6{\n",
       "            background-color:  #c3d5f4;\n",
       "            color:  #000000;\n",
       "        }#T_d74de_row4_col1{\n",
       "            background-color:  #4c66d6;\n",
       "            color:  #000000;\n",
       "        }#T_d74de_row4_col2{\n",
       "            background-color:  #6b8df0;\n",
       "            color:  #000000;\n",
       "        }#T_d74de_row4_col5{\n",
       "            background-color:  #4e68d8;\n",
       "            color:  #000000;\n",
       "        }#T_d74de_row4_col6{\n",
       "            background-color:  #536edd;\n",
       "            color:  #000000;\n",
       "        }#T_d74de_row5_col1,#T_d74de_row5_col2{\n",
       "            background-color:  #3c4ec2;\n",
       "            color:  #f1f1f1;\n",
       "        }#T_d74de_row5_col6{\n",
       "            background-color:  #89acfd;\n",
       "            color:  #000000;\n",
       "        }#T_d74de_row6_col0,#T_d74de_row6_col4{\n",
       "            background-color:  #465ecf;\n",
       "            color:  #f1f1f1;\n",
       "        }#T_d74de_row6_col1{\n",
       "            background-color:  #4961d2;\n",
       "            color:  #f1f1f1;\n",
       "        }#T_d74de_row6_col3{\n",
       "            background-color:  #c6d6f1;\n",
       "            color:  #000000;\n",
       "        }#T_d74de_row6_col5{\n",
       "            background-color:  #90b2fe;\n",
       "            color:  #000000;\n",
       "        }</style><table id=\"T_d74de_\" ><thead>    <tr>        <th class=\"blank level0\" ></th>        <th class=\"col_heading level0 col0\" >year</th>        <th class=\"col_heading level0 col1\" >suicides_no</th>        <th class=\"col_heading level0 col2\" >population</th>        <th class=\"col_heading level0 col3\" >suicides/100k pop</th>        <th class=\"col_heading level0 col4\" >gdp_per_capita</th>        <th class=\"col_heading level0 col5\" >suicide_per_pop</th>        <th class=\"col_heading level0 col6\" >AgeNum</th>    </tr></thead><tbody>\n",
       "                <tr>\n",
       "                        <th id=\"T_d74de_level0_row0\" class=\"row_heading level0 row0\" >year</th>\n",
       "                        <td id=\"T_d74de_row0_col0\" class=\"data row0 col0\" >1.000000</td>\n",
       "                        <td id=\"T_d74de_row0_col1\" class=\"data row0 col1\" >-0.005592</td>\n",
       "                        <td id=\"T_d74de_row0_col2\" class=\"data row0 col2\" >0.008850</td>\n",
       "                        <td id=\"T_d74de_row0_col3\" class=\"data row0 col3\" >-0.039037</td>\n",
       "                        <td id=\"T_d74de_row0_col4\" class=\"data row0 col4\" >0.339134</td>\n",
       "                        <td id=\"T_d74de_row0_col5\" class=\"data row0 col5\" >-0.038574</td>\n",
       "                        <td id=\"T_d74de_row0_col6\" class=\"data row0 col6\" >0.002524</td>\n",
       "            </tr>\n",
       "            <tr>\n",
       "                        <th id=\"T_d74de_level0_row1\" class=\"row_heading level0 row1\" >suicides_no</th>\n",
       "                        <td id=\"T_d74de_row1_col0\" class=\"data row1 col0\" >-0.005592</td>\n",
       "                        <td id=\"T_d74de_row1_col1\" class=\"data row1 col1\" >1.000000</td>\n",
       "                        <td id=\"T_d74de_row1_col2\" class=\"data row1 col2\" >0.598344</td>\n",
       "                        <td id=\"T_d74de_row1_col3\" class=\"data row1 col3\" >0.275364</td>\n",
       "                        <td id=\"T_d74de_row1_col4\" class=\"data row1 col4\" >0.056531</td>\n",
       "                        <td id=\"T_d74de_row1_col5\" class=\"data row1 col5\" >0.001456</td>\n",
       "                        <td id=\"T_d74de_row1_col6\" class=\"data row1 col6\" >0.045463</td>\n",
       "            </tr>\n",
       "            <tr>\n",
       "                        <th id=\"T_d74de_level0_row2\" class=\"row_heading level0 row2\" >population</th>\n",
       "                        <td id=\"T_d74de_row2_col0\" class=\"data row2 col0\" >0.008850</td>\n",
       "                        <td id=\"T_d74de_row2_col1\" class=\"data row2 col1\" >0.598344</td>\n",
       "                        <td id=\"T_d74de_row2_col2\" class=\"data row2 col2\" >1.000000</td>\n",
       "                        <td id=\"T_d74de_row2_col3\" class=\"data row2 col3\" >0.008285</td>\n",
       "                        <td id=\"T_d74de_row2_col4\" class=\"data row2 col4\" >0.081510</td>\n",
       "                        <td id=\"T_d74de_row2_col5\" class=\"data row2 col5\" >-0.083657</td>\n",
       "                        <td id=\"T_d74de_row2_col6\" class=\"data row2 col6\" >-0.088188</td>\n",
       "            </tr>\n",
       "            <tr>\n",
       "                        <th id=\"T_d74de_level0_row3\" class=\"row_heading level0 row3\" >suicides/100k pop</th>\n",
       "                        <td id=\"T_d74de_row3_col0\" class=\"data row3 col0\" >-0.039037</td>\n",
       "                        <td id=\"T_d74de_row3_col1\" class=\"data row3 col1\" >0.275364</td>\n",
       "                        <td id=\"T_d74de_row3_col2\" class=\"data row3 col2\" >0.008285</td>\n",
       "                        <td id=\"T_d74de_row3_col3\" class=\"data row3 col3\" >1.000000</td>\n",
       "                        <td id=\"T_d74de_row3_col4\" class=\"data row3 col4\" >0.001785</td>\n",
       "                        <td id=\"T_d74de_row3_col5\" class=\"data row3 col5\" >-0.115123</td>\n",
       "                        <td id=\"T_d74de_row3_col6\" class=\"data row3 col6\" >0.354783</td>\n",
       "            </tr>\n",
       "            <tr>\n",
       "                        <th id=\"T_d74de_level0_row4\" class=\"row_heading level0 row4\" >gdp_per_capita</th>\n",
       "                        <td id=\"T_d74de_row4_col0\" class=\"data row4 col0\" >0.339134</td>\n",
       "                        <td id=\"T_d74de_row4_col1\" class=\"data row4 col1\" >0.056531</td>\n",
       "                        <td id=\"T_d74de_row4_col2\" class=\"data row4 col2\" >0.081510</td>\n",
       "                        <td id=\"T_d74de_row4_col3\" class=\"data row4 col3\" >0.001785</td>\n",
       "                        <td id=\"T_d74de_row4_col4\" class=\"data row4 col4\" >1.000000</td>\n",
       "                        <td id=\"T_d74de_row4_col5\" class=\"data row4 col5\" >-0.044027</td>\n",
       "                        <td id=\"T_d74de_row4_col6\" class=\"data row4 col6\" >0.000676</td>\n",
       "            </tr>\n",
       "            <tr>\n",
       "                        <th id=\"T_d74de_level0_row5\" class=\"row_heading level0 row5\" >suicide_per_pop</th>\n",
       "                        <td id=\"T_d74de_row5_col0\" class=\"data row5 col0\" >-0.038574</td>\n",
       "                        <td id=\"T_d74de_row5_col1\" class=\"data row5 col1\" >0.001456</td>\n",
       "                        <td id=\"T_d74de_row5_col2\" class=\"data row5 col2\" >-0.083657</td>\n",
       "                        <td id=\"T_d74de_row5_col3\" class=\"data row5 col3\" >-0.115123</td>\n",
       "                        <td id=\"T_d74de_row5_col4\" class=\"data row5 col4\" >-0.044027</td>\n",
       "                        <td id=\"T_d74de_row5_col5\" class=\"data row5 col5\" >1.000000</td>\n",
       "                        <td id=\"T_d74de_row5_col6\" class=\"data row5 col6\" >0.172674</td>\n",
       "            </tr>\n",
       "            <tr>\n",
       "                        <th id=\"T_d74de_level0_row6\" class=\"row_heading level0 row6\" >AgeNum</th>\n",
       "                        <td id=\"T_d74de_row6_col0\" class=\"data row6 col0\" >0.002524</td>\n",
       "                        <td id=\"T_d74de_row6_col1\" class=\"data row6 col1\" >0.045463</td>\n",
       "                        <td id=\"T_d74de_row6_col2\" class=\"data row6 col2\" >-0.088188</td>\n",
       "                        <td id=\"T_d74de_row6_col3\" class=\"data row6 col3\" >0.354783</td>\n",
       "                        <td id=\"T_d74de_row6_col4\" class=\"data row6 col4\" >0.000676</td>\n",
       "                        <td id=\"T_d74de_row6_col5\" class=\"data row6 col5\" >0.172674</td>\n",
       "                        <td id=\"T_d74de_row6_col6\" class=\"data row6 col6\" >1.000000</td>\n",
       "            </tr>\n",
       "    </tbody></table>"
      ],
      "text/plain": [
       "<pandas.io.formats.style.Styler at 0x1eb90b83370>"
      ]
     },
     "execution_count": 110,
     "metadata": {},
     "output_type": "execute_result"
    }
   ],
   "source": [
    "corr=data.corr()\n",
    "corr.style.background_gradient(cmap='coolwarm')"
   ]
  },
  {
   "cell_type": "markdown",
   "id": "1503b008",
   "metadata": {},
   "source": [
    "It can be clearly seen that there is a positive correlation between population size and the suicides_no. The GDP per capita and the Suicide per 100K have a strong negative correlation. This means that when the suicide rate increases, the GDP per capita decreases. We can see that there most of the values are placed on the spot where GDP is high and the suicide rate is low or the opposite."
   ]
  },
  {
   "cell_type": "code",
   "execution_count": 111,
   "id": "7c9e7ce4",
   "metadata": {},
   "outputs": [
    {
     "data": {
      "image/png": "[encoded data removed]",
      "text/plain": [
       "<Figure size 432x288 with 1 Axes>"
      ]
     },
     "metadata": {},
     "output_type": "display_data"
    }
   ],
   "source": [
    "plt.plot('suicides/100k pop','population',data=data)\n",
    "plt.show()"
   ]
  },
  {
   "cell_type": "markdown",
   "id": "f7ab6b00",
   "metadata": {},
   "source": [
    "#### Outlier Removal"
   ]
  },
  {
   "cell_type": "code",
   "execution_count": 97,
   "id": "ca43dc20",
   "metadata": {},
   "outputs": [],
   "source": [
    "import scipy.stats\n",
    "#Analysis into “outlier” and “normal”\n",
    "def find_remove_outlier_iqr(data_sample):\n",
    "    q1 = np.percentile(data_sample, 25)\n",
    "    q3 = np.percentile(data_sample, 75)\n",
    "    \n",
    "    iqr = q3 - q1\n",
    "    \n",
    "    cutoff = iqr * 1.5\n",
    "    \n",
    "    lower, upper = q1-cutoff, q3+cutoff\n",
    "    \n",
    "    outliers =[]\n",
    "    outliers_removed = []\n",
    "    for x in data_sample:\n",
    "        if x < lower or x > upper:\n",
    "            outliers.append(x)\n",
    "        if x > lower and x < upper:\n",
    "            outliers_removed.append(x)\n",
    "    return outliers"
   ]
  },
  {
   "cell_type": "code",
   "execution_count": 100,
   "id": "4101d818",
   "metadata": {},
   "outputs": [
    {
     "data": {
      "text/html": [
       "<div>\n",
       "<style scoped>\n",
       "    .dataframe tbody tr th:only-of-type {\n",
       "        vertical-align: middle;\n",
       "    }\n",
       "\n",
       "    .dataframe tbody tr th {\n",
       "        vertical-align: top;\n",
       "    }\n",
       "\n",
       "    .dataframe thead th {\n",
       "        text-align: right;\n",
       "    }\n",
       "</style>\n",
       "<table border=\"1\" class=\"dataframe\">\n",
       "  <thead>\n",
       "    <tr style=\"text-align: right;\">\n",
       "      <th></th>\n",
       "      <th>country</th>\n",
       "      <th>year</th>\n",
       "      <th>sex</th>\n",
       "      <th>age</th>\n",
       "      <th>suicides_no</th>\n",
       "      <th>population</th>\n",
       "      <th>suicides/100k pop</th>\n",
       "      <th>country-year</th>\n",
       "      <th>gdp_for_year</th>\n",
       "      <th>gdp_per_capita</th>\n",
       "      <th>generation</th>\n",
       "      <th>suicide_per_pop</th>\n",
       "      <th>AgeNum</th>\n",
       "      <th>AgeCategory</th>\n",
       "    </tr>\n",
       "  </thead>\n",
       "  <tbody>\n",
       "    <tr>\n",
       "      <th>0</th>\n",
       "      <td>Albania</td>\n",
       "      <td>1987</td>\n",
       "      <td>male</td>\n",
       "      <td>15-24 years</td>\n",
       "      <td>21.0</td>\n",
       "      <td>312900</td>\n",
       "      <td>6.71</td>\n",
       "      <td>Albania1987</td>\n",
       "      <td>2,156,624,900</td>\n",
       "      <td>796</td>\n",
       "      <td>Generation X</td>\n",
       "      <td>0.000067</td>\n",
       "      <td>15</td>\n",
       "      <td>Adolescent</td>\n",
       "    </tr>\n",
       "    <tr>\n",
       "      <th>1</th>\n",
       "      <td>Albania</td>\n",
       "      <td>1987</td>\n",
       "      <td>male</td>\n",
       "      <td>35-54 years</td>\n",
       "      <td>16.0</td>\n",
       "      <td>308000</td>\n",
       "      <td>5.19</td>\n",
       "      <td>Albania1987</td>\n",
       "      <td>2,156,624,900</td>\n",
       "      <td>796</td>\n",
       "      <td>Silent</td>\n",
       "      <td>0.000052</td>\n",
       "      <td>35</td>\n",
       "      <td>Middle_Aged_Adults</td>\n",
       "    </tr>\n",
       "    <tr>\n",
       "      <th>2</th>\n",
       "      <td>Albania</td>\n",
       "      <td>1987</td>\n",
       "      <td>female</td>\n",
       "      <td>15-24 years</td>\n",
       "      <td>14.0</td>\n",
       "      <td>289700</td>\n",
       "      <td>4.83</td>\n",
       "      <td>Albania1987</td>\n",
       "      <td>2,156,624,900</td>\n",
       "      <td>796</td>\n",
       "      <td>Generation X</td>\n",
       "      <td>0.000048</td>\n",
       "      <td>15</td>\n",
       "      <td>Adolescent</td>\n",
       "    </tr>\n",
       "    <tr>\n",
       "      <th>3</th>\n",
       "      <td>Albania</td>\n",
       "      <td>1987</td>\n",
       "      <td>male</td>\n",
       "      <td>75+ years</td>\n",
       "      <td>1.0</td>\n",
       "      <td>21800</td>\n",
       "      <td>4.59</td>\n",
       "      <td>Albania1987</td>\n",
       "      <td>2,156,624,900</td>\n",
       "      <td>796</td>\n",
       "      <td>G.I. Generation</td>\n",
       "      <td>0.000046</td>\n",
       "      <td>75</td>\n",
       "      <td>Senior_Citizen</td>\n",
       "    </tr>\n",
       "    <tr>\n",
       "      <th>4</th>\n",
       "      <td>Albania</td>\n",
       "      <td>1987</td>\n",
       "      <td>male</td>\n",
       "      <td>25-34 years</td>\n",
       "      <td>9.0</td>\n",
       "      <td>274300</td>\n",
       "      <td>3.28</td>\n",
       "      <td>Albania1987</td>\n",
       "      <td>2,156,624,900</td>\n",
       "      <td>796</td>\n",
       "      <td>Boomers</td>\n",
       "      <td>0.000033</td>\n",
       "      <td>25</td>\n",
       "      <td>Adults</td>\n",
       "    </tr>\n",
       "  </tbody>\n",
       "</table>\n",
       "</div>"
      ],
      "text/plain": [
       "   country  year     sex          age  suicides_no  population  suicides/100k pop country-year   gdp_for_year  gdp_per_capita       generation  suicide_per_pop  AgeNum         AgeCategory\n",
       "0  Albania  1987    male  15-24 years         21.0      312900               6.71  Albania1987  2,156,624,900             796     Generation X         0.000067      15          Adolescent\n",
       "1  Albania  1987    male  35-54 years         16.0      308000               5.19  Albania1987  2,156,624,900             796           Silent         0.000052      35  Middle_Aged_Adults\n",
       "2  Albania  1987  female  15-24 years         14.0      289700               4.83  Albania1987  2,156,624,900             796     Generation X         0.000048      15          Adolescent\n",
       "3  Albania  1987    male    75+ years          1.0       21800               4.59  Albania1987  2,156,624,900             796  G.I. Generation         0.000046      75      Senior_Citizen\n",
       "4  Albania  1987    male  25-34 years          9.0      274300               3.28  Albania1987  2,156,624,900             796          Boomers         0.000033      25              Adults"
      ]
     },
     "execution_count": 100,
     "metadata": {},
     "output_type": "execute_result"
    }
   ],
   "source": [
    "pd.set_option('display.max_rows', 500)\n",
    "pd.set_option('display.max_columns', 500)\n",
    "pd.set_option('display.width', 1000)\n",
    "\n",
    "outliers = find_remove_outlier_iqr(data[\"suicides_no\"])\n",
    "\n",
    "out_df = data[data[\"suicides_no\"].isin(outliers)]\n",
    "#creating a dataframe without the outliers\n",
    "no_out_df = data[~data[\"suicides_no\"].isin(outliers)]\n",
    "no_out_df.head()"
   ]
  },
  {
   "cell_type": "code",
   "execution_count": 45,
   "id": "aacbbfa8",
   "metadata": {},
   "outputs": [
    {
     "data": {
      "image/png": "[encoded data removed]",
      "text/plain": [
       "<Figure size 432x288 with 1 Axes>"
      ]
     },
     "metadata": {},
     "output_type": "display_data"
    }
   ],
   "source": [
    "data['suicides_no'] = data['suicides_no'].replace(0,np.NAN)\n",
    "\n",
    "mean_value=data['suicides_no'].mean()\n",
    "data['suicides_no']=data['suicides_no'].fillna(mean_value)\n",
    "\n",
    "data.groupby('year')['suicides_no'].mean().plot() \n",
    "plt.title(\"Year vs. Suicide Count\",fontsize = 14) \n",
    "plt.xlabel('Year',fontsize = 13) \n",
    "plt.ylabel('Suicide Count',fontsize = 13)  \n",
    "sns.set_style(\"whitegrid\")"
   ]
  },
  {
   "cell_type": "markdown",
   "id": "f103c70d",
   "metadata": {},
   "source": [
    "From observing our Time Series Line Plot, we can see a sharp drop in suicides in 1985. This decrease could be due to awareness of suicide & mental health in the 80s, as well as improved recognition of those at risk. A major fall can be observed for the mid of 2015 this could be because of change in living standard amongst the society with education and awareness about the spaces which help people in soothing their stress level."
   ]
  },
  {
   "cell_type": "code",
   "execution_count": 46,
   "id": "48ba4520",
   "metadata": {},
   "outputs": [],
   "source": [
    "from collections import Counter\n",
    "\n",
    "def my_mode(sample):\n",
    "    c = Counter(sample)\n",
    "    return [k for k, v in c.items() if v == c.most_common(1)[0][1]]"
   ]
  },
  {
   "cell_type": "code",
   "execution_count": 47,
   "id": "477d68ff",
   "metadata": {},
   "outputs": [
    {
     "data": {
      "text/plain": [
       "['Austria', 'Iceland', 'Mauritius', 'Netherlands']"
      ]
     },
     "execution_count": 47,
     "metadata": {},
     "output_type": "execute_result"
    }
   ],
   "source": [
    "my_mode(data['country'])"
   ]
  },
  {
   "cell_type": "markdown",
   "id": "1277ce36",
   "metadata": {},
   "source": [
    "#### Variables has the most and the least Suicides \n",
    "##### Which country?"
   ]
  },
  {
   "cell_type": "code",
   "execution_count": 48,
   "id": "88dede2a",
   "metadata": {},
   "outputs": [],
   "source": [
    "m=max(data['suicides_no'])"
   ]
  },
  {
   "cell_type": "code",
   "execution_count": 50,
   "id": "eaa8c390",
   "metadata": {},
   "outputs": [
    {
     "name": "stdout",
     "output_type": "stream",
     "text": [
      "Country Which Has Highest suicides_no :  Russian Federation\n",
      "Country Which Has Lowest suicides_no  :  Albania\n"
     ]
    },
    {
     "data": {
      "text/html": [
       "<div>\n",
       "<style scoped>\n",
       "    .dataframe tbody tr th:only-of-type {\n",
       "        vertical-align: middle;\n",
       "    }\n",
       "\n",
       "    .dataframe tbody tr th {\n",
       "        vertical-align: top;\n",
       "    }\n",
       "\n",
       "    .dataframe thead th {\n",
       "        text-align: right;\n",
       "    }\n",
       "</style>\n",
       "<table border=\"1\" class=\"dataframe\">\n",
       "  <thead>\n",
       "    <tr style=\"text-align: right;\">\n",
       "      <th></th>\n",
       "      <th>3</th>\n",
       "      <th>20996</th>\n",
       "    </tr>\n",
       "  </thead>\n",
       "  <tbody>\n",
       "    <tr>\n",
       "      <th>country</th>\n",
       "      <td>Albania</td>\n",
       "      <td>Russian Federation</td>\n",
       "    </tr>\n",
       "    <tr>\n",
       "      <th>year</th>\n",
       "      <td>1987</td>\n",
       "      <td>1994</td>\n",
       "    </tr>\n",
       "    <tr>\n",
       "      <th>sex</th>\n",
       "      <td>male</td>\n",
       "      <td>male</td>\n",
       "    </tr>\n",
       "    <tr>\n",
       "      <th>age</th>\n",
       "      <td>75+ years</td>\n",
       "      <td>35-54 years</td>\n",
       "    </tr>\n",
       "    <tr>\n",
       "      <th>suicides_no</th>\n",
       "      <td>1.0</td>\n",
       "      <td>22338.0</td>\n",
       "    </tr>\n",
       "    <tr>\n",
       "      <th>population</th>\n",
       "      <td>21800</td>\n",
       "      <td>19044200</td>\n",
       "    </tr>\n",
       "    <tr>\n",
       "      <th>suicides/100k pop</th>\n",
       "      <td>4.59</td>\n",
       "      <td>117.3</td>\n",
       "    </tr>\n",
       "    <tr>\n",
       "      <th>country-year</th>\n",
       "      <td>Albania1987</td>\n",
       "      <td>Russian Federation1994</td>\n",
       "    </tr>\n",
       "    <tr>\n",
       "      <th>gdp_for_year</th>\n",
       "      <td>2,156,624,900</td>\n",
       "      <td>395,077,301,248</td>\n",
       "    </tr>\n",
       "    <tr>\n",
       "      <th>gdp_per_capita</th>\n",
       "      <td>796</td>\n",
       "      <td>2853</td>\n",
       "    </tr>\n",
       "    <tr>\n",
       "      <th>generation</th>\n",
       "      <td>G.I. Generation</td>\n",
       "      <td>Boomers</td>\n",
       "    </tr>\n",
       "  </tbody>\n",
       "</table>\n",
       "</div>"
      ],
      "text/plain": [
       "                             3                       20996\n",
       "country                    Albania      Russian Federation\n",
       "year                          1987                    1994\n",
       "sex                           male                    male\n",
       "age                      75+ years             35-54 years\n",
       "suicides_no                    1.0                 22338.0\n",
       "population                   21800                19044200\n",
       "suicides/100k pop             4.59                   117.3\n",
       "country-year           Albania1987  Russian Federation1994\n",
       "gdp_for_year         2,156,624,900         395,077,301,248\n",
       "gdp_per_capita                 796                    2853\n",
       "generation         G.I. Generation                 Boomers"
      ]
     },
     "execution_count": 50,
     "metadata": {},
     "output_type": "execute_result"
    }
   ],
   "source": [
    "min_index = data[suicides_no].idxmin()\n",
    "#use the function 'idmax' to find the index of Highest suicide\n",
    "high_index = data[suicides_no].idxmax()\n",
    "\n",
    "high = pd.DataFrame(data.loc[high_index,:])\n",
    "low = pd.DataFrame(data.loc[min_index,:])\n",
    "    \n",
    "print(\"Country Which Has Highest suicides_no\"  + \" : \",data['country'][high_index])\n",
    "print(\"Country Which Has Lowest suicides_no\" + \"  : \",data['country'][min_index])\n"
   ]
  },
  {
   "cell_type": "code",
   "execution_count": 52,
   "id": "6e2308e8",
   "metadata": {},
   "outputs": [
    {
     "data": {
      "text/html": [
       "<div>\n",
       "<style scoped>\n",
       "    .dataframe tbody tr th:only-of-type {\n",
       "        vertical-align: middle;\n",
       "    }\n",
       "\n",
       "    .dataframe tbody tr th {\n",
       "        vertical-align: top;\n",
       "    }\n",
       "\n",
       "    .dataframe thead th {\n",
       "        text-align: right;\n",
       "    }\n",
       "</style>\n",
       "<table border=\"1\" class=\"dataframe\">\n",
       "  <thead>\n",
       "    <tr style=\"text-align: right;\">\n",
       "      <th></th>\n",
       "      <th>country</th>\n",
       "      <th>year</th>\n",
       "      <th>sex</th>\n",
       "      <th>age</th>\n",
       "      <th>suicides_no</th>\n",
       "      <th>population</th>\n",
       "      <th>suicides/100k pop</th>\n",
       "      <th>country-year</th>\n",
       "      <th>gdp_for_year</th>\n",
       "      <th>gdp_per_capita</th>\n",
       "      <th>generation</th>\n",
       "    </tr>\n",
       "  </thead>\n",
       "  <tbody>\n",
       "    <tr>\n",
       "      <th>0</th>\n",
       "      <td>Albania</td>\n",
       "      <td>1987</td>\n",
       "      <td>male</td>\n",
       "      <td>15-24 years</td>\n",
       "      <td>21.000000</td>\n",
       "      <td>312900</td>\n",
       "      <td>6.71</td>\n",
       "      <td>Albania1987</td>\n",
       "      <td>2,156,624,900</td>\n",
       "      <td>796</td>\n",
       "      <td>Generation X</td>\n",
       "    </tr>\n",
       "    <tr>\n",
       "      <th>1</th>\n",
       "      <td>Albania</td>\n",
       "      <td>1987</td>\n",
       "      <td>male</td>\n",
       "      <td>35-54 years</td>\n",
       "      <td>16.000000</td>\n",
       "      <td>308000</td>\n",
       "      <td>5.19</td>\n",
       "      <td>Albania1987</td>\n",
       "      <td>2,156,624,900</td>\n",
       "      <td>796</td>\n",
       "      <td>Silent</td>\n",
       "    </tr>\n",
       "    <tr>\n",
       "      <th>2</th>\n",
       "      <td>Albania</td>\n",
       "      <td>1987</td>\n",
       "      <td>female</td>\n",
       "      <td>15-24 years</td>\n",
       "      <td>14.000000</td>\n",
       "      <td>289700</td>\n",
       "      <td>4.83</td>\n",
       "      <td>Albania1987</td>\n",
       "      <td>2,156,624,900</td>\n",
       "      <td>796</td>\n",
       "      <td>Generation X</td>\n",
       "    </tr>\n",
       "    <tr>\n",
       "      <th>3</th>\n",
       "      <td>Albania</td>\n",
       "      <td>1987</td>\n",
       "      <td>male</td>\n",
       "      <td>75+ years</td>\n",
       "      <td>1.000000</td>\n",
       "      <td>21800</td>\n",
       "      <td>4.59</td>\n",
       "      <td>Albania1987</td>\n",
       "      <td>2,156,624,900</td>\n",
       "      <td>796</td>\n",
       "      <td>G.I. Generation</td>\n",
       "    </tr>\n",
       "    <tr>\n",
       "      <th>4</th>\n",
       "      <td>Albania</td>\n",
       "      <td>1987</td>\n",
       "      <td>male</td>\n",
       "      <td>25-34 years</td>\n",
       "      <td>9.000000</td>\n",
       "      <td>274300</td>\n",
       "      <td>3.28</td>\n",
       "      <td>Albania1987</td>\n",
       "      <td>2,156,624,900</td>\n",
       "      <td>796</td>\n",
       "      <td>Boomers</td>\n",
       "    </tr>\n",
       "    <tr>\n",
       "      <th>5</th>\n",
       "      <td>Albania</td>\n",
       "      <td>1987</td>\n",
       "      <td>female</td>\n",
       "      <td>75+ years</td>\n",
       "      <td>1.000000</td>\n",
       "      <td>35600</td>\n",
       "      <td>2.81</td>\n",
       "      <td>Albania1987</td>\n",
       "      <td>2,156,624,900</td>\n",
       "      <td>796</td>\n",
       "      <td>G.I. Generation</td>\n",
       "    </tr>\n",
       "    <tr>\n",
       "      <th>6</th>\n",
       "      <td>Albania</td>\n",
       "      <td>1987</td>\n",
       "      <td>female</td>\n",
       "      <td>35-54 years</td>\n",
       "      <td>6.000000</td>\n",
       "      <td>278800</td>\n",
       "      <td>2.15</td>\n",
       "      <td>Albania1987</td>\n",
       "      <td>2,156,624,900</td>\n",
       "      <td>796</td>\n",
       "      <td>Silent</td>\n",
       "    </tr>\n",
       "    <tr>\n",
       "      <th>7</th>\n",
       "      <td>Albania</td>\n",
       "      <td>1987</td>\n",
       "      <td>female</td>\n",
       "      <td>25-34 years</td>\n",
       "      <td>4.000000</td>\n",
       "      <td>257200</td>\n",
       "      <td>1.56</td>\n",
       "      <td>Albania1987</td>\n",
       "      <td>2,156,624,900</td>\n",
       "      <td>796</td>\n",
       "      <td>Boomers</td>\n",
       "    </tr>\n",
       "    <tr>\n",
       "      <th>8</th>\n",
       "      <td>Albania</td>\n",
       "      <td>1987</td>\n",
       "      <td>male</td>\n",
       "      <td>55-74 years</td>\n",
       "      <td>1.000000</td>\n",
       "      <td>137500</td>\n",
       "      <td>0.73</td>\n",
       "      <td>Albania1987</td>\n",
       "      <td>2,156,624,900</td>\n",
       "      <td>796</td>\n",
       "      <td>G.I. Generation</td>\n",
       "    </tr>\n",
       "    <tr>\n",
       "      <th>9</th>\n",
       "      <td>Albania</td>\n",
       "      <td>1987</td>\n",
       "      <td>female</td>\n",
       "      <td>5-14 years</td>\n",
       "      <td>286.691023</td>\n",
       "      <td>311000</td>\n",
       "      <td>0.00</td>\n",
       "      <td>Albania1987</td>\n",
       "      <td>2,156,624,900</td>\n",
       "      <td>796</td>\n",
       "      <td>Generation X</td>\n",
       "    </tr>\n",
       "    <tr>\n",
       "      <th>10</th>\n",
       "      <td>Albania</td>\n",
       "      <td>1987</td>\n",
       "      <td>female</td>\n",
       "      <td>55-74 years</td>\n",
       "      <td>286.691023</td>\n",
       "      <td>144600</td>\n",
       "      <td>0.00</td>\n",
       "      <td>Albania1987</td>\n",
       "      <td>2,156,624,900</td>\n",
       "      <td>796</td>\n",
       "      <td>G.I. Generation</td>\n",
       "    </tr>\n",
       "    <tr>\n",
       "      <th>11</th>\n",
       "      <td>Albania</td>\n",
       "      <td>1987</td>\n",
       "      <td>male</td>\n",
       "      <td>5-14 years</td>\n",
       "      <td>286.691023</td>\n",
       "      <td>338200</td>\n",
       "      <td>0.00</td>\n",
       "      <td>Albania1987</td>\n",
       "      <td>2,156,624,900</td>\n",
       "      <td>796</td>\n",
       "      <td>Generation X</td>\n",
       "    </tr>\n",
       "    <tr>\n",
       "      <th>12</th>\n",
       "      <td>Albania</td>\n",
       "      <td>1988</td>\n",
       "      <td>female</td>\n",
       "      <td>75+ years</td>\n",
       "      <td>2.000000</td>\n",
       "      <td>36400</td>\n",
       "      <td>5.49</td>\n",
       "      <td>Albania1988</td>\n",
       "      <td>2,126,000,000</td>\n",
       "      <td>769</td>\n",
       "      <td>G.I. Generation</td>\n",
       "    </tr>\n",
       "    <tr>\n",
       "      <th>13</th>\n",
       "      <td>Albania</td>\n",
       "      <td>1988</td>\n",
       "      <td>male</td>\n",
       "      <td>15-24 years</td>\n",
       "      <td>17.000000</td>\n",
       "      <td>319200</td>\n",
       "      <td>5.33</td>\n",
       "      <td>Albania1988</td>\n",
       "      <td>2,126,000,000</td>\n",
       "      <td>769</td>\n",
       "      <td>Generation X</td>\n",
       "    </tr>\n",
       "    <tr>\n",
       "      <th>14</th>\n",
       "      <td>Albania</td>\n",
       "      <td>1988</td>\n",
       "      <td>male</td>\n",
       "      <td>75+ years</td>\n",
       "      <td>1.000000</td>\n",
       "      <td>22300</td>\n",
       "      <td>4.48</td>\n",
       "      <td>Albania1988</td>\n",
       "      <td>2,126,000,000</td>\n",
       "      <td>769</td>\n",
       "      <td>G.I. Generation</td>\n",
       "    </tr>\n",
       "  </tbody>\n",
       "</table>\n",
       "</div>"
      ],
      "text/plain": [
       "    country  year     sex          age  suicides_no  population  \\\n",
       "0   Albania  1987    male  15-24 years    21.000000      312900   \n",
       "1   Albania  1987    male  35-54 years    16.000000      308000   \n",
       "2   Albania  1987  female  15-24 years    14.000000      289700   \n",
       "3   Albania  1987    male    75+ years     1.000000       21800   \n",
       "4   Albania  1987    male  25-34 years     9.000000      274300   \n",
       "5   Albania  1987  female    75+ years     1.000000       35600   \n",
       "6   Albania  1987  female  35-54 years     6.000000      278800   \n",
       "7   Albania  1987  female  25-34 years     4.000000      257200   \n",
       "8   Albania  1987    male  55-74 years     1.000000      137500   \n",
       "9   Albania  1987  female   5-14 years   286.691023      311000   \n",
       "10  Albania  1987  female  55-74 years   286.691023      144600   \n",
       "11  Albania  1987    male   5-14 years   286.691023      338200   \n",
       "12  Albania  1988  female    75+ years     2.000000       36400   \n",
       "13  Albania  1988    male  15-24 years    17.000000      319200   \n",
       "14  Albania  1988    male    75+ years     1.000000       22300   \n",
       "\n",
       "    suicides/100k pop country-year   gdp_for_year  gdp_per_capita  \\\n",
       "0                6.71  Albania1987  2,156,624,900             796   \n",
       "1                5.19  Albania1987  2,156,624,900             796   \n",
       "2                4.83  Albania1987  2,156,624,900             796   \n",
       "3                4.59  Albania1987  2,156,624,900             796   \n",
       "4                3.28  Albania1987  2,156,624,900             796   \n",
       "5                2.81  Albania1987  2,156,624,900             796   \n",
       "6                2.15  Albania1987  2,156,624,900             796   \n",
       "7                1.56  Albania1987  2,156,624,900             796   \n",
       "8                0.73  Albania1987  2,156,624,900             796   \n",
       "9                0.00  Albania1987  2,156,624,900             796   \n",
       "10               0.00  Albania1987  2,156,624,900             796   \n",
       "11               0.00  Albania1987  2,156,624,900             796   \n",
       "12               5.49  Albania1988  2,126,000,000             769   \n",
       "13               5.33  Albania1988  2,126,000,000             769   \n",
       "14               4.48  Albania1988  2,126,000,000             769   \n",
       "\n",
       "         generation  \n",
       "0      Generation X  \n",
       "1            Silent  \n",
       "2      Generation X  \n",
       "3   G.I. Generation  \n",
       "4           Boomers  \n",
       "5   G.I. Generation  \n",
       "6            Silent  \n",
       "7           Boomers  \n",
       "8   G.I. Generation  \n",
       "9      Generation X  \n",
       "10  G.I. Generation  \n",
       "11     Generation X  \n",
       "12  G.I. Generation  \n",
       "13     Generation X  \n",
       "14  G.I. Generation  "
      ]
     },
     "execution_count": 52,
     "metadata": {},
     "output_type": "execute_result"
    }
   ],
   "source": [
    "data.head(15)"
   ]
  },
  {
   "cell_type": "markdown",
   "id": "8d3f26ee",
   "metadata": {},
   "source": [
    "##### Which Year?\n",
    "\n",
    "The graph below showed that some countries and states are missing data for certain years and certain ages. Therefore, there would be some errors due to the incompleted dataset."
   ]
  },
  {
   "cell_type": "code",
   "execution_count": 54,
   "id": "f4d9ac8b",
   "metadata": {},
   "outputs": [
    {
     "name": "stdout",
     "output_type": "stream",
     "text": [
      "Year Which Has Highest suicides_no  :  1994\n",
      "Year Which Has Lowest suicides_no   :  1987\n"
     ]
    }
   ],
   "source": [
    "data['suicides_no'] = data['suicides_no'].replace(0,np.NAN)\n",
    "mean_value=data['suicides_no'].mean()\n",
    "data['suicides_no']=data['suicides_no'].fillna(mean_value)\n",
    "min_index = data['suicides_no'].idxmin()\n",
    "    \n",
    "high_index = data['suicides_no'].idxmax()\n",
    "\n",
    "high = pd.DataFrame(data.loc[high_index,:])\n",
    "low = pd.DataFrame(data.loc[min_index,:])\n",
    "\n",
    "print(\"Year Which Has Highest suicides_no \"+ \" : \",data['year'][high_index])\n",
    "print(\"Year Which Has Lowest suicides_no \" + \"  : \",data['year'][min_index])"
   ]
  },
  {
   "cell_type": "markdown",
   "id": "fda21327",
   "metadata": {},
   "source": [
    "##### Which gender group by country?"
   ]
  },
  {
   "cell_type": "code",
   "execution_count": 65,
   "id": "c802cedf",
   "metadata": {},
   "outputs": [
    {
     "data": {
      "text/html": [
       "<div>\n",
       "<style scoped>\n",
       "    .dataframe tbody tr th:only-of-type {\n",
       "        vertical-align: middle;\n",
       "    }\n",
       "\n",
       "    .dataframe tbody tr th {\n",
       "        vertical-align: top;\n",
       "    }\n",
       "\n",
       "    .dataframe thead th {\n",
       "        text-align: right;\n",
       "    }\n",
       "</style>\n",
       "<table border=\"1\" class=\"dataframe\">\n",
       "  <thead>\n",
       "    <tr style=\"text-align: right;\">\n",
       "      <th></th>\n",
       "      <th>country</th>\n",
       "      <th>suicides_no_x</th>\n",
       "      <th>suicides_no_y</th>\n",
       "    </tr>\n",
       "  </thead>\n",
       "  <tbody>\n",
       "    <tr>\n",
       "      <th>0</th>\n",
       "      <td>Albania</td>\n",
       "      <td>8444.275585</td>\n",
       "      <td>10153.803772</td>\n",
       "    </tr>\n",
       "    <tr>\n",
       "      <th>1</th>\n",
       "      <td>Antigua and Barbuda</td>\n",
       "      <td>43873.726581</td>\n",
       "      <td>46158.254769</td>\n",
       "    </tr>\n",
       "    <tr>\n",
       "      <th>2</th>\n",
       "      <td>Argentina</td>\n",
       "      <td>63893.000000</td>\n",
       "      <td>18326.000000</td>\n",
       "    </tr>\n",
       "    <tr>\n",
       "      <th>3</th>\n",
       "      <td>Armenia</td>\n",
       "      <td>4850.292281</td>\n",
       "      <td>10242.494796</td>\n",
       "    </tr>\n",
       "    <tr>\n",
       "      <th>4</th>\n",
       "      <td>Aruba</td>\n",
       "      <td>12985.096053</td>\n",
       "      <td>20372.062662</td>\n",
       "    </tr>\n",
       "    <tr>\n",
       "      <th>...</th>\n",
       "      <td>...</td>\n",
       "      <td>...</td>\n",
       "      <td>...</td>\n",
       "    </tr>\n",
       "    <tr>\n",
       "      <th>96</th>\n",
       "      <td>United Arab Emirates</td>\n",
       "      <td>3677.601257</td>\n",
       "      <td>4111.674328</td>\n",
       "    </tr>\n",
       "    <tr>\n",
       "      <th>97</th>\n",
       "      <td>United Kingdom</td>\n",
       "      <td>104118.000000</td>\n",
       "      <td>33547.073070</td>\n",
       "    </tr>\n",
       "    <tr>\n",
       "      <th>98</th>\n",
       "      <td>United States</td>\n",
       "      <td>820216.000000</td>\n",
       "      <td>213797.000000</td>\n",
       "    </tr>\n",
       "    <tr>\n",
       "      <th>99</th>\n",
       "      <td>Uruguay</td>\n",
       "      <td>10891.382047</td>\n",
       "      <td>5113.528187</td>\n",
       "    </tr>\n",
       "    <tr>\n",
       "      <th>100</th>\n",
       "      <td>Uzbekistan</td>\n",
       "      <td>25543.000000</td>\n",
       "      <td>9260.000000</td>\n",
       "    </tr>\n",
       "  </tbody>\n",
       "</table>\n",
       "<p>101 rows × 3 columns</p>\n",
       "</div>"
      ],
      "text/plain": [
       "                  country  suicides_no_x  suicides_no_y\n",
       "0                 Albania    8444.275585   10153.803772\n",
       "1     Antigua and Barbuda   43873.726581   46158.254769\n",
       "2               Argentina   63893.000000   18326.000000\n",
       "3                 Armenia    4850.292281   10242.494796\n",
       "4                   Aruba   12985.096053   20372.062662\n",
       "..                    ...            ...            ...\n",
       "96   United Arab Emirates    3677.601257    4111.674328\n",
       "97         United Kingdom  104118.000000   33547.073070\n",
       "98          United States  820216.000000  213797.000000\n",
       "99                Uruguay   10891.382047    5113.528187\n",
       "100            Uzbekistan   25543.000000    9260.000000\n",
       "\n",
       "[101 rows x 3 columns]"
      ]
     },
     "execution_count": 65,
     "metadata": {},
     "output_type": "execute_result"
    }
   ],
   "source": [
    "sum_male = data[data['sex']=='male'].groupby ('country' )['suicides_no'].sum().reset_index() #watch the reset_index()\n",
    "sum_female = data[data['sex']=='female'].groupby ('country' )['suicides_no'].sum().reset_index()\n",
    "new_df = sum_male.merge(sum_female, on=\"country\")\n",
    "new_df"
   ]
  },
  {
   "cell_type": "code",
   "execution_count": 63,
   "id": "6cbe27c1",
   "metadata": {},
   "outputs": [
    {
     "name": "stdout",
     "output_type": "stream",
     "text": [
      "                  country  suicides_no_x  suicides_no_y  diff\n",
      "27               Dominica    1720.146140    1720.146140   0.0\n",
      "76  Saint Kitts and Nevis    5160.438421    5160.438421   0.0\n"
     ]
    }
   ],
   "source": [
    "new_df['diff'] = new_df['suicides_no_x'] - new_df['suicides_no_y']\n",
    "print(new_df[new_df['diff']==0])"
   ]
  },
  {
   "cell_type": "code",
   "execution_count": null,
   "id": "cdaf5aae",
   "metadata": {},
   "outputs": [],
   "source": []
  },
  {
   "cell_type": "markdown",
   "id": "1b9d31a2",
   "metadata": {},
   "source": [
    "Only the country Dominica and Saint Kitts and Nevis have equal suicidal rate of 1720 between male and female. The highest suicidal rate is amongst the male group."
   ]
  },
  {
   "cell_type": "code",
   "execution_count": 73,
   "id": "c295bfa6",
   "metadata": {},
   "outputs": [
    {
     "name": "stdout",
     "output_type": "stream",
     "text": [
      "Country with Highest suicide_per_pop  :  Kiribati\n",
      "Country with Lowest suicide_per_pop   :  Thailand\n"
     ]
    }
   ],
   "source": [
    "data['suicide_per_pop'] = data['suicides_no']/data['population']\n",
    "min_index = data['suicide_per_pop'].idxmin()\n",
    "    \n",
    "high_index = data['suicide_per_pop'].idxmax()\n",
    "\n",
    "high = pd.DataFrame(data.loc[high_index,:])\n",
    "low = pd.DataFrame(data.loc[min_index,:])\n",
    "\n",
    "print(\"Country with Highest suicide_per_pop \"+ \" : \",data['country'][high_index])\n",
    "print(\"Country with Lowest suicide_per_pop \" + \"  : \",data['country'][min_index])"
   ]
  },
  {
   "cell_type": "markdown",
   "id": "45843134",
   "metadata": {},
   "source": [
    "##### Age groups "
   ]
  },
  {
   "cell_type": "code",
   "execution_count": 78,
   "id": "45c7abf2",
   "metadata": {},
   "outputs": [
    {
     "data": {
      "text/plain": [
       "27813    75\n",
       "27814    25\n",
       "27815    35\n",
       "27816    75\n",
       "27817    5-\n",
       "27818    5-\n",
       "27819    55\n",
       "Name: AgeNum, dtype: object"
      ]
     },
     "execution_count": 78,
     "metadata": {},
     "output_type": "execute_result"
    }
   ],
   "source": [
    "data['AgeNum'] = data['age'].str[:2]\n",
    "data['AgeNum'].tail(7)"
   ]
  },
  {
   "cell_type": "code",
   "execution_count": 75,
   "id": "c5f823a7",
   "metadata": {},
   "outputs": [
    {
     "data": {
      "text/plain": [
       "0    15-24 years\n",
       "1    35-54 years\n",
       "2    15-24 years\n",
       "3      75+ years\n",
       "4    25-34 years\n",
       "Name: age, dtype: object"
      ]
     },
     "execution_count": 75,
     "metadata": {},
     "output_type": "execute_result"
    }
   ],
   "source": [
    "data['age'].head(5)"
   ]
  },
  {
   "cell_type": "code",
   "execution_count": 79,
   "id": "9e17d0c7",
   "metadata": {},
   "outputs": [],
   "source": [
    "data['AgeNum'] = data['AgeNum'].map(lambda x: x.replace('-',''))"
   ]
  },
  {
   "cell_type": "code",
   "execution_count": 80,
   "id": "06217316",
   "metadata": {},
   "outputs": [
    {
     "data": {
      "text/plain": [
       "27817     5\n",
       "27818     5\n",
       "27819    55\n",
       "Name: AgeNum, dtype: int32"
      ]
     },
     "execution_count": 80,
     "metadata": {},
     "output_type": "execute_result"
    }
   ],
   "source": [
    "data['AgeNum'] = data['AgeNum'].astype(int)\n",
    "\n",
    "data['AgeNum'].tail(3)"
   ]
  },
  {
   "cell_type": "code",
   "execution_count": 81,
   "id": "482d079d",
   "metadata": {},
   "outputs": [],
   "source": [
    "# creates Age Categories\n",
    "def AgeGroup(x):\n",
    "    if(x >= 60):\n",
    "        return \"Senior_Citizen\"\n",
    "    elif(x >= 30):\n",
    "        return \"Middle_Aged_Adults\"\n",
    "    elif(x >= 18):\n",
    "        return \"Adults\"\n",
    "    else:\n",
    "        return \"Adolescent\"\n",
    "\n"
   ]
  },
  {
   "cell_type": "code",
   "execution_count": 82,
   "id": "026aa582",
   "metadata": {},
   "outputs": [],
   "source": [
    "data['AgeCategory'] = data['AgeNum'].map(lambda x: AgeGroup(x))"
   ]
  },
  {
   "cell_type": "code",
   "execution_count": 83,
   "id": "56367f8a",
   "metadata": {},
   "outputs": [
    {
     "data": {
      "text/plain": [
       "27817            Adolescent\n",
       "27818            Adolescent\n",
       "27819    Middle_Aged_Adults\n",
       "Name: AgeCategory, dtype: object"
      ]
     },
     "execution_count": 83,
     "metadata": {},
     "output_type": "execute_result"
    }
   ],
   "source": [
    "data['AgeCategory'] = data['AgeCategory'].astype(str)\n",
    "data['AgeCategory'].tail(3)"
   ]
  },
  {
   "cell_type": "code",
   "execution_count": 86,
   "id": "df7f5c33",
   "metadata": {},
   "outputs": [
    {
     "data": {
      "text/plain": [
       "Text(3.9250000000000043, 0.5, 'Suicide Count')"
      ]
     },
     "execution_count": 86,
     "metadata": {},
     "output_type": "execute_result"
    },
    {
     "data": {
      "image/png": "[encoded data removed]",
      "text/plain": [
       "<Figure size 360x360 with 1 Axes>"
      ]
     },
     "metadata": {},
     "output_type": "display_data"
    }
   ],
   "source": [
    "sns.catplot(x=\"AgeCategory\", y=\"suicides_no\", kind=\"bar\",data=data);\n",
    "\n",
    "plt.title('Age vs. Suicide Count',size=25)\n",
    "plt.xlabel('Age Category',size=20)\n",
    "plt.ylabel('Suicide Count',size=20)"
   ]
  },
  {
   "cell_type": "markdown",
   "id": "8fb84c9a",
   "metadata": {},
   "source": [
    "The middle_aged category which is between 30  and 59 years of age has the highest Suicide rate. It is shocking to see that Senior citizens and adolescent have somewhat equal count as well which should not be the case."
   ]
  },
  {
   "cell_type": "code",
   "execution_count": 87,
   "id": "217cd28b",
   "metadata": {},
   "outputs": [
    {
     "data": {
      "text/plain": [
       "female    13910\n",
       "male      13910\n",
       "Name: sex, dtype: int64"
      ]
     },
     "execution_count": 87,
     "metadata": {},
     "output_type": "execute_result"
    }
   ],
   "source": [
    "data['sex'].value_counts()"
   ]
  },
  {
   "cell_type": "code",
   "execution_count": 88,
   "id": "1af0e9fb",
   "metadata": {},
   "outputs": [
    {
     "data": {
      "image/png": "[encoded data removed]",
      "text/plain": [
       "<Figure size 488.375x360 with 1 Axes>"
      ]
     },
     "metadata": {},
     "output_type": "display_data"
    }
   ],
   "source": [
    "sns.catplot(x=\"sex\", y=\"suicides_no\", hue=\"AgeCategory\", kind=\"bar\", data=data);"
   ]
  },
  {
   "cell_type": "code",
   "execution_count": null,
   "id": "56cd13f9",
   "metadata": {},
   "outputs": [],
   "source": [
    "This is a surprising outcome, the males have high rate of suicides for all three ages.All the 4 age categories seem to level off at 100 for females but the males have increase in suicidal rate of above 200 for all the 4 age groups."
   ]
  }
 ],
 "metadata": {
  "kernelspec": {
   "display_name": "Python 3",
   "language": "python",
   "name": "python3"
  },
  "language_info": {
   "codemirror_mode": {
    "name": "ipython",
    "version": 3
   },
   "file_extension": ".py",
   "mimetype": "text/x-python",
   "name": "python",
   "nbconvert_exporter": "python",
   "pygments_lexer": "ipython3",
   "version": "3.8.8"
  }
 },
 "nbformat": 4,
 "nbformat_minor": 5
}
